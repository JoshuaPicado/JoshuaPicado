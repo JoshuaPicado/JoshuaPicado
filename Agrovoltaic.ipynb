{
  "nbformat": 4,
  "nbformat_minor": 0,
  "metadata": {
    "colab": {
      "provenance": [],
      "authorship_tag": "ABX9TyNKLfjgitWZ94K4dwP66k3o",
      "include_colab_link": true
    },
    "kernelspec": {
      "name": "python3",
      "display_name": "Python 3"
    },
    "language_info": {
      "name": "python"
    },
    "widgets": {
      "application/vnd.jupyter.widget-state+json": {
        "b80330a1fa244ae8b612e58e9ca7693c": {
          "model_module": "@jupyter-widgets/controls",
          "model_name": "DatePickerModel",
          "model_module_version": "1.5.0",
          "state": {
            "_dom_classes": [],
            "_model_module": "@jupyter-widgets/controls",
            "_model_module_version": "1.5.0",
            "_model_name": "DatePickerModel",
            "_view_count": null,
            "_view_module": "@jupyter-widgets/controls",
            "_view_module_version": "1.5.0",
            "_view_name": "DatePickerView",
            "description": "Start Date",
            "description_tooltip": null,
            "disabled": false,
            "layout": "IPY_MODEL_f0a2a287c2ff4950902b2cd76080556c",
            "style": "IPY_MODEL_7520757ff644413cb39c0d4373a24aa4",
            "value": {
              "year": 2024,
              "month": 2,
              "date": 1
            }
          }
        },
        "f0a2a287c2ff4950902b2cd76080556c": {
          "model_module": "@jupyter-widgets/base",
          "model_name": "LayoutModel",
          "model_module_version": "1.2.0",
          "state": {
            "_model_module": "@jupyter-widgets/base",
            "_model_module_version": "1.2.0",
            "_model_name": "LayoutModel",
            "_view_count": null,
            "_view_module": "@jupyter-widgets/base",
            "_view_module_version": "1.2.0",
            "_view_name": "LayoutView",
            "align_content": null,
            "align_items": null,
            "align_self": null,
            "border": null,
            "bottom": null,
            "display": null,
            "flex": null,
            "flex_flow": null,
            "grid_area": null,
            "grid_auto_columns": null,
            "grid_auto_flow": null,
            "grid_auto_rows": null,
            "grid_column": null,
            "grid_gap": null,
            "grid_row": null,
            "grid_template_areas": null,
            "grid_template_columns": null,
            "grid_template_rows": null,
            "height": null,
            "justify_content": null,
            "justify_items": null,
            "left": null,
            "margin": null,
            "max_height": null,
            "max_width": null,
            "min_height": null,
            "min_width": null,
            "object_fit": null,
            "object_position": null,
            "order": null,
            "overflow": null,
            "overflow_x": null,
            "overflow_y": null,
            "padding": null,
            "right": null,
            "top": null,
            "visibility": null,
            "width": null
          }
        },
        "7520757ff644413cb39c0d4373a24aa4": {
          "model_module": "@jupyter-widgets/controls",
          "model_name": "DescriptionStyleModel",
          "model_module_version": "1.5.0",
          "state": {
            "_model_module": "@jupyter-widgets/controls",
            "_model_module_version": "1.5.0",
            "_model_name": "DescriptionStyleModel",
            "_view_count": null,
            "_view_module": "@jupyter-widgets/base",
            "_view_module_version": "1.2.0",
            "_view_name": "StyleView",
            "description_width": ""
          }
        },
        "e25a0241cb77490ea63f83ad563d3e7f": {
          "model_module": "@jupyter-widgets/controls",
          "model_name": "TextModel",
          "model_module_version": "1.5.0",
          "state": {
            "_dom_classes": [],
            "_model_module": "@jupyter-widgets/controls",
            "_model_module_version": "1.5.0",
            "_model_name": "TextModel",
            "_view_count": null,
            "_view_module": "@jupyter-widgets/controls",
            "_view_module_version": "1.5.0",
            "_view_name": "TextView",
            "continuous_update": true,
            "description": "Start Hour (HH:MM:SS)",
            "description_tooltip": null,
            "disabled": false,
            "layout": "IPY_MODEL_66b6712517e043f98ef06fa18ca48593",
            "placeholder": "​",
            "style": "IPY_MODEL_9bf9476152e1454bab9d7b3adcf82d8e",
            "value": "00:00:00"
          }
        },
        "66b6712517e043f98ef06fa18ca48593": {
          "model_module": "@jupyter-widgets/base",
          "model_name": "LayoutModel",
          "model_module_version": "1.2.0",
          "state": {
            "_model_module": "@jupyter-widgets/base",
            "_model_module_version": "1.2.0",
            "_model_name": "LayoutModel",
            "_view_count": null,
            "_view_module": "@jupyter-widgets/base",
            "_view_module_version": "1.2.0",
            "_view_name": "LayoutView",
            "align_content": null,
            "align_items": null,
            "align_self": null,
            "border": null,
            "bottom": null,
            "display": null,
            "flex": null,
            "flex_flow": null,
            "grid_area": null,
            "grid_auto_columns": null,
            "grid_auto_flow": null,
            "grid_auto_rows": null,
            "grid_column": null,
            "grid_gap": null,
            "grid_row": null,
            "grid_template_areas": null,
            "grid_template_columns": null,
            "grid_template_rows": null,
            "height": null,
            "justify_content": null,
            "justify_items": null,
            "left": null,
            "margin": null,
            "max_height": null,
            "max_width": null,
            "min_height": null,
            "min_width": null,
            "object_fit": null,
            "object_position": null,
            "order": null,
            "overflow": null,
            "overflow_x": null,
            "overflow_y": null,
            "padding": null,
            "right": null,
            "top": null,
            "visibility": null,
            "width": null
          }
        },
        "9bf9476152e1454bab9d7b3adcf82d8e": {
          "model_module": "@jupyter-widgets/controls",
          "model_name": "DescriptionStyleModel",
          "model_module_version": "1.5.0",
          "state": {
            "_model_module": "@jupyter-widgets/controls",
            "_model_module_version": "1.5.0",
            "_model_name": "DescriptionStyleModel",
            "_view_count": null,
            "_view_module": "@jupyter-widgets/base",
            "_view_module_version": "1.2.0",
            "_view_name": "StyleView",
            "description_width": ""
          }
        },
        "15dec6ed2e8548fa936949a41ff0c9ea": {
          "model_module": "@jupyter-widgets/controls",
          "model_name": "DatePickerModel",
          "model_module_version": "1.5.0",
          "state": {
            "_dom_classes": [],
            "_model_module": "@jupyter-widgets/controls",
            "_model_module_version": "1.5.0",
            "_model_name": "DatePickerModel",
            "_view_count": null,
            "_view_module": "@jupyter-widgets/controls",
            "_view_module_version": "1.5.0",
            "_view_name": "DatePickerView",
            "description": "End Date",
            "description_tooltip": null,
            "disabled": false,
            "layout": "IPY_MODEL_efec9664d4024adf9e6259a688702cf6",
            "style": "IPY_MODEL_af769858704443399cd18e46f4e10dca",
            "value": {
              "year": 2024,
              "month": 4,
              "date": 31
            }
          }
        },
        "efec9664d4024adf9e6259a688702cf6": {
          "model_module": "@jupyter-widgets/base",
          "model_name": "LayoutModel",
          "model_module_version": "1.2.0",
          "state": {
            "_model_module": "@jupyter-widgets/base",
            "_model_module_version": "1.2.0",
            "_model_name": "LayoutModel",
            "_view_count": null,
            "_view_module": "@jupyter-widgets/base",
            "_view_module_version": "1.2.0",
            "_view_name": "LayoutView",
            "align_content": null,
            "align_items": null,
            "align_self": null,
            "border": null,
            "bottom": null,
            "display": null,
            "flex": null,
            "flex_flow": null,
            "grid_area": null,
            "grid_auto_columns": null,
            "grid_auto_flow": null,
            "grid_auto_rows": null,
            "grid_column": null,
            "grid_gap": null,
            "grid_row": null,
            "grid_template_areas": null,
            "grid_template_columns": null,
            "grid_template_rows": null,
            "height": null,
            "justify_content": null,
            "justify_items": null,
            "left": null,
            "margin": null,
            "max_height": null,
            "max_width": null,
            "min_height": null,
            "min_width": null,
            "object_fit": null,
            "object_position": null,
            "order": null,
            "overflow": null,
            "overflow_x": null,
            "overflow_y": null,
            "padding": null,
            "right": null,
            "top": null,
            "visibility": null,
            "width": null
          }
        },
        "af769858704443399cd18e46f4e10dca": {
          "model_module": "@jupyter-widgets/controls",
          "model_name": "DescriptionStyleModel",
          "model_module_version": "1.5.0",
          "state": {
            "_model_module": "@jupyter-widgets/controls",
            "_model_module_version": "1.5.0",
            "_model_name": "DescriptionStyleModel",
            "_view_count": null,
            "_view_module": "@jupyter-widgets/base",
            "_view_module_version": "1.2.0",
            "_view_name": "StyleView",
            "description_width": ""
          }
        },
        "d5b6ee4d954d418eb0b8fa09ea082f7b": {
          "model_module": "@jupyter-widgets/controls",
          "model_name": "TextModel",
          "model_module_version": "1.5.0",
          "state": {
            "_dom_classes": [],
            "_model_module": "@jupyter-widgets/controls",
            "_model_module_version": "1.5.0",
            "_model_name": "TextModel",
            "_view_count": null,
            "_view_module": "@jupyter-widgets/controls",
            "_view_module_version": "1.5.0",
            "_view_name": "TextView",
            "continuous_update": true,
            "description": "End Hour (HH:MM:SS)",
            "description_tooltip": null,
            "disabled": false,
            "layout": "IPY_MODEL_e07278e95dcd4f989abdb84ae7d6ca58",
            "placeholder": "​",
            "style": "IPY_MODEL_b998593e108a401ba79ccd10ee9543d7",
            "value": "23:59:59"
          }
        },
        "e07278e95dcd4f989abdb84ae7d6ca58": {
          "model_module": "@jupyter-widgets/base",
          "model_name": "LayoutModel",
          "model_module_version": "1.2.0",
          "state": {
            "_model_module": "@jupyter-widgets/base",
            "_model_module_version": "1.2.0",
            "_model_name": "LayoutModel",
            "_view_count": null,
            "_view_module": "@jupyter-widgets/base",
            "_view_module_version": "1.2.0",
            "_view_name": "LayoutView",
            "align_content": null,
            "align_items": null,
            "align_self": null,
            "border": null,
            "bottom": null,
            "display": null,
            "flex": null,
            "flex_flow": null,
            "grid_area": null,
            "grid_auto_columns": null,
            "grid_auto_flow": null,
            "grid_auto_rows": null,
            "grid_column": null,
            "grid_gap": null,
            "grid_row": null,
            "grid_template_areas": null,
            "grid_template_columns": null,
            "grid_template_rows": null,
            "height": null,
            "justify_content": null,
            "justify_items": null,
            "left": null,
            "margin": null,
            "max_height": null,
            "max_width": null,
            "min_height": null,
            "min_width": null,
            "object_fit": null,
            "object_position": null,
            "order": null,
            "overflow": null,
            "overflow_x": null,
            "overflow_y": null,
            "padding": null,
            "right": null,
            "top": null,
            "visibility": null,
            "width": null
          }
        },
        "b998593e108a401ba79ccd10ee9543d7": {
          "model_module": "@jupyter-widgets/controls",
          "model_name": "DescriptionStyleModel",
          "model_module_version": "1.5.0",
          "state": {
            "_model_module": "@jupyter-widgets/controls",
            "_model_module_version": "1.5.0",
            "_model_name": "DescriptionStyleModel",
            "_view_count": null,
            "_view_module": "@jupyter-widgets/base",
            "_view_module_version": "1.2.0",
            "_view_name": "StyleView",
            "description_width": ""
          }
        },
        "97948020eaaa41d89bfaa022f40cb3fa": {
          "model_module": "@jupyter-widgets/controls",
          "model_name": "DropdownModel",
          "model_module_version": "1.5.0",
          "state": {
            "_dom_classes": [],
            "_model_module": "@jupyter-widgets/controls",
            "_model_module_version": "1.5.0",
            "_model_name": "DropdownModel",
            "_options_labels": [
              "temperature (ºC)",
              "air humidity (%)",
              "light (lux)",
              "water (%)",
              "ec (µS)",
              "battery (%)"
            ],
            "_view_count": null,
            "_view_module": "@jupyter-widgets/controls",
            "_view_module_version": "1.5.0",
            "_view_name": "DropdownView",
            "description": "Select Column:",
            "description_tooltip": null,
            "disabled": false,
            "index": 0,
            "layout": "IPY_MODEL_611f04400ba94b44bb77d686868d6373",
            "style": "IPY_MODEL_c849d84fcfff409d8a6c809348de548e"
          }
        },
        "611f04400ba94b44bb77d686868d6373": {
          "model_module": "@jupyter-widgets/base",
          "model_name": "LayoutModel",
          "model_module_version": "1.2.0",
          "state": {
            "_model_module": "@jupyter-widgets/base",
            "_model_module_version": "1.2.0",
            "_model_name": "LayoutModel",
            "_view_count": null,
            "_view_module": "@jupyter-widgets/base",
            "_view_module_version": "1.2.0",
            "_view_name": "LayoutView",
            "align_content": null,
            "align_items": null,
            "align_self": null,
            "border": null,
            "bottom": null,
            "display": null,
            "flex": null,
            "flex_flow": null,
            "grid_area": null,
            "grid_auto_columns": null,
            "grid_auto_flow": null,
            "grid_auto_rows": null,
            "grid_column": null,
            "grid_gap": null,
            "grid_row": null,
            "grid_template_areas": null,
            "grid_template_columns": null,
            "grid_template_rows": null,
            "height": null,
            "justify_content": null,
            "justify_items": null,
            "left": null,
            "margin": null,
            "max_height": null,
            "max_width": null,
            "min_height": null,
            "min_width": null,
            "object_fit": null,
            "object_position": null,
            "order": null,
            "overflow": null,
            "overflow_x": null,
            "overflow_y": null,
            "padding": null,
            "right": null,
            "top": null,
            "visibility": null,
            "width": null
          }
        },
        "c849d84fcfff409d8a6c809348de548e": {
          "model_module": "@jupyter-widgets/controls",
          "model_name": "DescriptionStyleModel",
          "model_module_version": "1.5.0",
          "state": {
            "_model_module": "@jupyter-widgets/controls",
            "_model_module_version": "1.5.0",
            "_model_name": "DescriptionStyleModel",
            "_view_count": null,
            "_view_module": "@jupyter-widgets/base",
            "_view_module_version": "1.2.0",
            "_view_name": "StyleView",
            "description_width": ""
          }
        },
        "aa15ae64998d4e97ac5dd8a05ae43dea": {
          "model_module": "@jupyter-widgets/controls",
          "model_name": "ButtonModel",
          "model_module_version": "1.5.0",
          "state": {
            "_dom_classes": [],
            "_model_module": "@jupyter-widgets/controls",
            "_model_module_version": "1.5.0",
            "_model_name": "ButtonModel",
            "_view_count": null,
            "_view_module": "@jupyter-widgets/controls",
            "_view_module_version": "1.5.0",
            "_view_name": "ButtonView",
            "button_style": "",
            "description": "Generate Graphic",
            "disabled": false,
            "icon": "",
            "layout": "IPY_MODEL_78a79980f22145ec93fec3ef5391ea3c",
            "style": "IPY_MODEL_63f2246fda804b1884a833b0254f9067",
            "tooltip": ""
          }
        },
        "78a79980f22145ec93fec3ef5391ea3c": {
          "model_module": "@jupyter-widgets/base",
          "model_name": "LayoutModel",
          "model_module_version": "1.2.0",
          "state": {
            "_model_module": "@jupyter-widgets/base",
            "_model_module_version": "1.2.0",
            "_model_name": "LayoutModel",
            "_view_count": null,
            "_view_module": "@jupyter-widgets/base",
            "_view_module_version": "1.2.0",
            "_view_name": "LayoutView",
            "align_content": null,
            "align_items": null,
            "align_self": null,
            "border": null,
            "bottom": null,
            "display": null,
            "flex": null,
            "flex_flow": null,
            "grid_area": null,
            "grid_auto_columns": null,
            "grid_auto_flow": null,
            "grid_auto_rows": null,
            "grid_column": null,
            "grid_gap": null,
            "grid_row": null,
            "grid_template_areas": null,
            "grid_template_columns": null,
            "grid_template_rows": null,
            "height": null,
            "justify_content": null,
            "justify_items": null,
            "left": null,
            "margin": null,
            "max_height": null,
            "max_width": null,
            "min_height": null,
            "min_width": null,
            "object_fit": null,
            "object_position": null,
            "order": null,
            "overflow": null,
            "overflow_x": null,
            "overflow_y": null,
            "padding": null,
            "right": null,
            "top": null,
            "visibility": null,
            "width": null
          }
        },
        "63f2246fda804b1884a833b0254f9067": {
          "model_module": "@jupyter-widgets/controls",
          "model_name": "ButtonStyleModel",
          "model_module_version": "1.5.0",
          "state": {
            "_model_module": "@jupyter-widgets/controls",
            "_model_module_version": "1.5.0",
            "_model_name": "ButtonStyleModel",
            "_view_count": null,
            "_view_module": "@jupyter-widgets/base",
            "_view_module_version": "1.2.0",
            "_view_name": "StyleView",
            "button_color": null,
            "font_weight": ""
          }
        }
      }
    }
  },
  "cells": [
    {
      "cell_type": "markdown",
      "metadata": {
        "id": "view-in-github",
        "colab_type": "text"
      },
      "source": [
        "<a href=\"https://colab.research.google.com/github/JoshuaPicado/JoshuaPicado/blob/main/Agrovoltaic.ipynb\" target=\"_parent\"><img src=\"https://colab.research.google.com/assets/colab-badge.svg\" alt=\"Open In Colab\"/></a>"
      ]
    },
    {
      "cell_type": "markdown",
      "source": [
        "\n",
        "# Agrovoltaic\n",
        "\n",
        "Dr. Abel Méndez Porras\n",
        "\n",
        "Estudiante: Joshua Picado\n"
      ],
      "metadata": {
        "id": "x4fLw43jrtPw"
      }
    },
    {
      "cell_type": "markdown",
      "source": [
        "# importación de las bibliotecas"
      ],
      "metadata": {
        "id": "9JGOibtJ896q"
      }
    },
    {
      "cell_type": "code",
      "execution_count": null,
      "metadata": {
        "id": "1qINn0_x8q1w"
      },
      "outputs": [],
      "source": [
        "#Este módulo proporciona funcionalidades para montar Google Drive en el entorno de Colab.\n",
        "from google.colab import drive\n",
        "\n",
        "#Este módulo proporciona funcionalidades para interactuar con archivos en el entorno de Colab.\n",
        "from google.colab import files\n",
        "\n",
        "#Este módulo mostrará una tabla interactiva con los datos del DataFrame en el entorno de Google Colab.\n",
        "from google.colab import data_table\n",
        "\n",
        "#Se utiliza para trazar un gráfico de cuantiles-cuantiles (QQ plot), que es una herramienta\n",
        "#gráfica para comparar la distribución de una muestra de datos con una distribución teórica\n",
        "#o con otra muestra de datos.\n",
        "from statsmodels.graphics.gofplots import qqplot\n",
        "\n",
        "#Pangas se utiliza principalmente para el análisis y manipulación de datos tabulares.\n",
        "import pandas as pd\n",
        "\n",
        "#Seaborn es una biblioteca de visualización de datos en Python basada en Matplotlib,\n",
        "#que proporciona una interfaz de alto nivel para crear gráficos atractivos y informativos.\n",
        "import seaborn as sns\n",
        "\n",
        "#Matplotlib es una biblioteca de visualización de datos en Python que proporciona una API similar\n",
        "#a la de MATLAB para crear gráficos de alta calidad.\n",
        "import matplotlib.pyplot as plt\n",
        "\n",
        "\n",
        "import numpy as np\n",
        "import ipywidgets as widgets\n",
        "from datetime import datetime\n",
        "from IPython.display import display\n",
        "\n",
        "# Importar Matplotlib y asignarle el alias \"plt\"\n",
        "import matplotlib.pyplot as plt\n",
        "\n",
        "# Importar Plotly\n",
        "import plotly.express as px\n",
        "import plotly.graph_objects as go\n",
        "\n",
        "# Configuración adicional para mejorar la estética de las visualizaciones\n",
        "sns.set(style=\"whitegrid\")  # Configurar estilo Seaborn\n",
        "\n",
        "#Si los datos en el eje x son fechas, puedes formatearlas para que sean más legibles\n",
        "#import matplotlib.dates as mdates"
      ]
    },
    {
      "cell_type": "markdown",
      "source": [
        "#ACESSO A GOOGLE DRIVE\n",
        "Permite el acceso a los documetos de google drive para su lectura"
      ],
      "metadata": {
        "id": "spMACTQ6euat"
      }
    },
    {
      "cell_type": "code",
      "source": [
        "#Metodo que llama al google drive\n",
        "drive.mount('/content/drive')"
      ],
      "metadata": {
        "id": "tgs1mLsKexnV",
        "colab": {
          "base_uri": "https://localhost:8080/"
        },
        "outputId": "10bfaf9e-0af7-4ff7-dbbc-e101e8b6143d"
      },
      "execution_count": null,
      "outputs": [
        {
          "output_type": "stream",
          "name": "stdout",
          "text": [
            "Mounted at /content/drive\n"
          ]
        }
      ]
    },
    {
      "cell_type": "markdown",
      "source": [
        "#Lectura del archivo Excel con todos los datos\n",
        "Metodo para confirmar que el archivo fue leído exitosamente"
      ],
      "metadata": {
        "id": "i5gbJL3ffOKF"
      }
    },
    {
      "cell_type": "code",
      "source": [
        "# Ruta al archivo CSV en Google Drive\n",
        "ruta_archivo = \"/content/drive/MyDrive/Colab Notebooks/Investigación 2024/Agrovoltaic/Data/data_7057_1713819688093-panel horizontal exterior-sin procesar.csv\"\n",
        "\n",
        "# Leer el archivo CSV\n",
        "try:\n",
        "    df = pd.read_csv(ruta_archivo, sep=',')\n",
        "    print(\"Archivo CSV leído correctamente.\")\n",
        "except FileNotFoundError:\n",
        "    print(f\"Error: El archivo no se encuentra en la ruta especificada: {ruta_archivo}\")\n",
        "except Exception as e:\n",
        "    print(f\"Ocurrió un error al leer el archivo CSV: {e}\")\n"
      ],
      "metadata": {
        "id": "89_uDqtYfWgP",
        "colab": {
          "base_uri": "https://localhost:8080/"
        },
        "outputId": "a0a8f291-eef0-460d-9d36-622544d3e5b5"
      },
      "execution_count": null,
      "outputs": [
        {
          "output_type": "stream",
          "name": "stdout",
          "text": [
            "Archivo CSV leído correctamente.\n"
          ]
        }
      ]
    },
    {
      "cell_type": "markdown",
      "source": [
        "#Graficos de control\n",
        "Seccion que permite graficar los parametros del archivo"
      ],
      "metadata": {
        "id": "lJKKvXmyfjnu"
      }
    },
    {
      "cell_type": "code",
      "source": [
        "# Función para filtrar los datos y graficar\n",
        "def plot_control_chart(ruta_archivo, start_datetime, end_datetime, column_to_plot, factor=3, title=\"Control Chart\", xlabel=\"Index\", ylabel=\"Value\", figsize=(12, 6), save_path=\"/content/drive/MyDrive/Colab Notebooks/Investigación 2024/Graficos\"):\n",
        "    # Cargar el archivo CSV\n",
        "    df = pd.read_csv(ruta_archivo)\n",
        "\n",
        "    # Convertir la columna 0 (fechas y horas) a formato datetime\n",
        "    df[df.columns[0]] = pd.to_datetime(df[df.columns[0]], format='%H:%M:%S %d/%m/%Y')\n",
        "\n",
        "    # Filtrar los datos por el rango de fechas\n",
        "    df = df[(df[df.columns[0]] >= start_datetime) & (df[df.columns[0]] <= end_datetime)]\n",
        "\n",
        "    # Revisar si hay datos después de filtrar\n",
        "    if df.empty:\n",
        "        print(\"There is no data in the selected range.\")\n",
        "        return\n",
        "\n",
        "    # Extraer las columnas para graficar\n",
        "    name_x = df.columns[0]  # columna de fechas\n",
        "    name_y = column_to_plot  # columna seleccionada por el usuario\n",
        "    x = df[name_x].copy()\n",
        "    y = df[name_y].copy()\n",
        "\n",
        "    # Calcular la media y la desviación estándar\n",
        "    mean = y.mean()\n",
        "    std_dev = y.std()\n",
        "\n",
        "    # Calcular los límites de control\n",
        "    UCL = mean + factor * std_dev\n",
        "    LCL = mean - factor * std_dev\n",
        "\n",
        "    # Comprobar puntos fuera de control\n",
        "    out_of_control = y[(y > UCL) | (y < LCL)]\n",
        "\n",
        "    # Graficar\n",
        "    plt.figure(figsize=figsize)\n",
        "    plt.plot(x, y, 'bo-', label='Data')\n",
        "    plt.axhline(y=mean, color='r', linestyle='--', label='Mean')\n",
        "    plt.axhline(y=UCL, color='g', linestyle='--', label='UCL')\n",
        "    plt.axhline(y=LCL, color='g', linestyle='--', label='LCL')\n",
        "\n",
        "    # Resaltar puntos fuera de control\n",
        "    if not out_of_control.empty:\n",
        "        plt.plot(x[out_of_control.index], y[out_of_control.index], 'ro', label='Out of Control')\n",
        "        for i in out_of_control.index:\n",
        "            plt.text(x[i], y[i], f'{y[i]:.2f}', color='red', fontsize=9, ha='right')\n",
        "\n",
        "    plt.xlabel(f\"{xlabel} (hours)\")\n",
        "    plt.xticks(rotation=45, ha='right')\n",
        "    plt.ylabel(name_y)\n",
        "    plt.title(title + \": \" + name_y)\n",
        "    plt.legend()\n",
        "    plt.grid(True)\n",
        "    plt.show()\n",
        "\n",
        "    # Alerta para puntos fuera de control\n",
        "    if not out_of_control.empty:\n",
        "        print(\"Alert: Out-of-control points detected at the following indices and values:\")\n",
        "        print(out_of_control)\n",
        "\n",
        "# Widgets para seleccionar fecha, hora y columna\n",
        "date_start = widgets.DatePicker(description='Start Date')\n",
        "time_start = widgets.Text(description='Start Hour (HH:MM:SS)', value='00:00:00')\n",
        "date_end = widgets.DatePicker(description='End Date')\n",
        "time_end = widgets.Text(description='End Hour (HH:MM:SS)', value='23:59:59')\n",
        "\n",
        "#ruta de donde se encuentra el archivo\n",
        "ruta_archivo = \"/content/drive/MyDrive/Colab Notebooks/Investigación 2024/Agrovoltaic/Data/data_7057_1713819688093-panel horizontal exterior-sin procesar.csv\"\n",
        "df = pd.read_csv(ruta_archivo)\n",
        "column_selector = widgets.Dropdown(options=df.columns[1:], description=\"Select Column:\")\n",
        "\n",
        "# Función para combinar fecha y hora\n",
        "def combinar_fecha_hora(date, time):\n",
        "    try:\n",
        "        return datetime.strptime(f\"{time} {date.strftime('%d/%m/%Y')}\", '%H:%M:%S %d/%m/%Y')\n",
        "    except:\n",
        "        print(\"Error in date/time format.\")\n",
        "        return None\n",
        "\n",
        "# Función que será ejecutada al hacer clic en el botón\n",
        "def ejecutar_grafico(b):\n",
        "    start_datetime = combinar_fecha_hora(date_start.value, time_start.value)\n",
        "    end_datetime = combinar_fecha_hora(date_end.value, time_end.value)\n",
        "    column_to_plot = column_selector.value\n",
        "\n",
        "    if start_datetime and end_datetime and column_to_plot:\n",
        "        plot_control_chart(ruta_archivo, start_datetime, end_datetime, column_to_plot)\n",
        "\n",
        "# Botón para generar el gráfico\n",
        "boton = widgets.Button(description=\"Generate Graphic\")\n",
        "boton.on_click(ejecutar_grafico)\n",
        "\n",
        "# Mostrar widgets y botón\n",
        "display(date_start, time_start, date_end, time_end, column_selector, boton)\n",
        "\n",
        "\n"
      ],
      "metadata": {
        "id": "ODxioeVnj4rZ",
        "colab": {
          "base_uri": "https://localhost:8080/",
          "height": 815,
          "referenced_widgets": [
            "b80330a1fa244ae8b612e58e9ca7693c",
            "f0a2a287c2ff4950902b2cd76080556c",
            "7520757ff644413cb39c0d4373a24aa4",
            "e25a0241cb77490ea63f83ad563d3e7f",
            "66b6712517e043f98ef06fa18ca48593",
            "9bf9476152e1454bab9d7b3adcf82d8e",
            "15dec6ed2e8548fa936949a41ff0c9ea",
            "efec9664d4024adf9e6259a688702cf6",
            "af769858704443399cd18e46f4e10dca",
            "d5b6ee4d954d418eb0b8fa09ea082f7b",
            "e07278e95dcd4f989abdb84ae7d6ca58",
            "b998593e108a401ba79ccd10ee9543d7",
            "97948020eaaa41d89bfaa022f40cb3fa",
            "611f04400ba94b44bb77d686868d6373",
            "c849d84fcfff409d8a6c809348de548e",
            "aa15ae64998d4e97ac5dd8a05ae43dea",
            "78a79980f22145ec93fec3ef5391ea3c",
            "63f2246fda804b1884a833b0254f9067"
          ]
        },
        "outputId": "236a698f-4cb3-4eb9-a726-5cdfd1d07478"
      },
      "execution_count": null,
      "outputs": [
        {
          "output_type": "display_data",
          "data": {
            "text/plain": [
              "DatePicker(value=None, description='Start Date')"
            ],
            "application/vnd.jupyter.widget-view+json": {
              "version_major": 2,
              "version_minor": 0,
              "model_id": "b80330a1fa244ae8b612e58e9ca7693c"
            }
          },
          "metadata": {}
        },
        {
          "output_type": "display_data",
          "data": {
            "text/plain": [
              "Text(value='00:00:00', description='Start Hour (HH:MM:SS)')"
            ],
            "application/vnd.jupyter.widget-view+json": {
              "version_major": 2,
              "version_minor": 0,
              "model_id": "e25a0241cb77490ea63f83ad563d3e7f"
            }
          },
          "metadata": {}
        },
        {
          "output_type": "display_data",
          "data": {
            "text/plain": [
              "DatePicker(value=None, description='End Date')"
            ],
            "application/vnd.jupyter.widget-view+json": {
              "version_major": 2,
              "version_minor": 0,
              "model_id": "15dec6ed2e8548fa936949a41ff0c9ea"
            }
          },
          "metadata": {}
        },
        {
          "output_type": "display_data",
          "data": {
            "text/plain": [
              "Text(value='23:59:59', description='End Hour (HH:MM:SS)')"
            ],
            "application/vnd.jupyter.widget-view+json": {
              "version_major": 2,
              "version_minor": 0,
              "model_id": "d5b6ee4d954d418eb0b8fa09ea082f7b"
            }
          },
          "metadata": {}
        },
        {
          "output_type": "display_data",
          "data": {
            "text/plain": [
              "Dropdown(description='Select Column:', options=('temperature (ºC)', 'air humidity (%)', 'light (lux)', 'water …"
            ],
            "application/vnd.jupyter.widget-view+json": {
              "version_major": 2,
              "version_minor": 0,
              "model_id": "97948020eaaa41d89bfaa022f40cb3fa"
            }
          },
          "metadata": {}
        },
        {
          "output_type": "display_data",
          "data": {
            "text/plain": [
              "Button(description='Generate Graphic', style=ButtonStyle())"
            ],
            "application/vnd.jupyter.widget-view+json": {
              "version_major": 2,
              "version_minor": 0,
              "model_id": "aa15ae64998d4e97ac5dd8a05ae43dea"
            }
          },
          "metadata": {}
        },
        {
          "output_type": "display_data",
          "data": {
            "text/plain": [
              "<Figure size 1200x600 with 1 Axes>"
            ],
            "image/png": "[encoded data removed]"
          },
          "metadata": {}
        }
      ]
    },
    {
      "cell_type": "markdown",
      "source": [
        "#Repositorio de github\n"
      ],
      "metadata": {
        "id": "R4pMQVrEganW"
      }
    }
  ]
}